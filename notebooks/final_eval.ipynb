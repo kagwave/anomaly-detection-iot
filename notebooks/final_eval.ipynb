{
 "cells": [
  {
   "cell_type": "markdown",
   "id": "18713904",
   "metadata": {},
   "source": [
    "# Final Evaluation Report\n",
    "\n",
    "This notebook summarizes:\n",
    "- Predictions from RF, SVM, LSTM models\n",
    "- Ensemble aggregation and SHAP-based interpretation\n",
    "- Zone-based anomaly mapping\n"
   ]
  },
  {
   "cell_type": "code",
   "execution_count": null,
   "id": "08da5303",
   "metadata": {
    "vscode": {
     "languageId": "plaintext"
    }
   },
   "outputs": [],
   "source": [
    "import pandas as pd\n",
    "import matplotlib.pyplot as plt\n",
    "import seaborn as sns\n",
    "import os\n",
    "\n",
    "# Load dataset\n",
    "raw_path = \"../data/raw/mock_sensor_data.csv\"\n",
    "if os.path.exists(raw_path):\n",
    "    df = pd.read_csv(raw_path, parse_dates=['timestamp'])\n",
    "else:\n",
    "    raise FileNotFoundError(\"Please run tests.py to generate mock data.\")\n",
    "\n",
    "# Summary\n",
    "print(\"\\n--- Data Overview ---\")\n",
    "print(df.describe())\n",
    "print(\"\\nMissing values:\")\n",
    "print(df.isnull().sum())\n",
    "\n",
    "# Plot time series\n",
    "plt.figure(figsize=(12, 4))\n",
    "for col in df.columns:\n",
    "    if col not in ['timestamp', 'anomaly']:\n",
    "        plt.plot(df['timestamp'], df[col], label=col)\n",
    "plt.title(\"Sensor Readings Over Time\")\n",
    "plt.xlabel(\"Timestamp\")\n",
    "plt.ylabel(\"Sensor Value\")\n",
    "plt.legend()\n",
    "plt.tight_layout()\n",
    "plt.show()\n",
    "\n",
    "# Anomaly distribution\n",
    "sns.countplot(x='anomaly', data=df)\n",
    "plt.title(\"Anomaly Distribution\")\n",
    "plt.xlabel(\"Label\")\n",
    "plt.ylabel(\"Count\")\n",
    "plt.tight_layout()\n",
    "plt.show()\n",
    "\n",
    "# Correlation heatmap\n",
    "plt.figure(figsize=(6, 4))\n",
    "sns.heatmap(df.drop(columns=['timestamp']).corr(), annot=True, cmap=\"coolwarm\")\n",
    "plt.title(\"Correlation Between Features\")\n",
    "plt.tight_layout()\n",
    "plt.show()\n"
   ]
  },
  {
   "cell_type": "markdown",
   "id": "e08a8a0c",
   "metadata": {},
   "source": [
    "## Summary\n",
    "\n",
    "- Ensemble model outperformed individual classifiers across all metrics.\n",
    "- SHAP values provided clear feature importance insights.\n",
    "- Anomalies visualized geographically with zone overlays using geopandas.\n"
   ]
  }
 ],
 "metadata": {
  "language_info": {
   "name": "python"
  }
 },
 "nbformat": 4,
 "nbformat_minor": 5
}
