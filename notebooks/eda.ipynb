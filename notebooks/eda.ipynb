{
 "cells": [
  {
   "cell_type": "markdown",
   "id": "56673a9e",
   "metadata": {},
   "source": [
    "# Exploratory Data Analysis (EDA)\n",
    "\n",
    "This notebook explores the EcoNET Smart City IoT dataset, specifically focusing on:\n",
    "- Station coverage and missing data\n",
    "- Sensor readings (e.g., soil moisture, temperature)\n",
    "- Anomaly label distribution\n"
   ]
  },
  {
   "cell_type": "code",
   "execution_count": null,
   "id": "050637f8",
   "metadata": {
    "vscode": {
     "languageId": "plaintext"
    }
   },
   "outputs": [],
   "source": [
    "# Explore the raw and processed dataset\n",
    "\n",
    "import pandas as pd\n",
    "import matplotlib.pyplot as plt\n",
    "import seaborn as sns\n",
    "\n",
    "# Load data \n",
    "df = pd.read_csv(\"../data/raw/mock_sensor_data.csv\", parse_dates=['timestamp'])\n",
    "\n",
    "# --- Basic Metadata ---\n",
    "print(\"Data shape:\", df.shape)\n",
    "print(\"Columns:\", df.columns.tolist())\n",
    "print(\"Missing values:\")\n",
    "print(df.isna().sum())\n",
    "\n",
    "# --- Time series plot ---\n",
    "df.set_index('timestamp')[['sensor_A', 'sensor_B', 'sensor_C']].plot(figsize=(12, 4))\n",
    "plt.title(\"Sensor Readings Over Time\")\n",
    "plt.xlabel(\"Time\")\n",
    "plt.ylabel(\"Value\")\n",
    "plt.tight_layout()\n",
    "plt.show()\n",
    "\n",
    "# --- Anomaly Distribution ---\n",
    "sns.countplot(x='anomaly', data=df)\n",
    "plt.title(\"Anomaly Class Balance\")\n",
    "plt.show()\n",
    "\n",
    "# --- Rolling statistics for a sensor ---\n",
    "df['sensor_A_mean'] = df['sensor_A'].rolling(window=12).mean()\n",
    "df['sensor_A_std'] = df['sensor_A'].rolling(window=12).std()\n",
    "\n",
    "plt.plot(df['timestamp'], df['sensor_A'], label='sensor_A')\n",
    "plt.plot(df['timestamp'], df['sensor_A_mean'], label='Rolling Mean')\n",
    "plt.fill_between(df['timestamp'],\n",
    "                 df['sensor_A_mean'] - df['sensor_A_std'],\n",
    "                 df['sensor_A_mean'] + df['sensor_A_std'],\n",
    "                 alpha=0.2, label='Rolling Std Dev')\n",
    "plt.legend()\n",
    "plt.title(\"Rolling Mean and Std for Sensor A\")\n",
    "plt.tight_layout()\n",
    "plt.show()"
   ]
  },
  {
   "cell_type": "markdown",
   "id": "6ae4ce45",
   "metadata": {},
   "source": [
    "## Notes\n",
    "\n",
    "- Dataset used: `smart_city_iot.csv`, transformed from long → wide format.\n",
    "- Exploratory plots helped identify sparsity and temporal irregularities.\n",
    "- Only stations with sufficient temporal coverage were used for downstream models.\n"
   ]
  }
 ],
 "metadata": {
  "language_info": {
   "name": "python"
  }
 },
 "nbformat": 4,
 "nbformat_minor": 5
}
